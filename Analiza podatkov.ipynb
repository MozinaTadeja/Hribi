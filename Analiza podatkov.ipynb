{
 "cells": [
  {
   "cell_type": "markdown",
   "metadata": {},
   "source": [
    "# Slovenski hribi\n",
    "### Projektna naloga pri predmetu Programiranje 1\n",
    "\n",
    "\n",
    "## Uvod\n",
    "Z uporabo knjižnice Pandas bom analizirala slovenske hribe iz podatkov pridobljenih na strani https://www.hribi.net/gorovja​ . \n",
    "Za vsak hrib je bilo zajeto:\n",
    "- id hriba\n",
    "- ime hriba\n",
    "- višina\n",
    "- priljubljenost\n",
    "- pod katero gorovje spada\n",
    "\n",
    "Podatki so bili zajeti z zajemi.py in orodja.py, shranjeni pa so v datoteki obdelani-podatki.\n",
    "\n",
    "Hipoteze:\n",
    "- Katere so najbolj priljubljene slovenske hribi/ gorovja?\n",
    "- Višji vrhovi so bolj popularni\n",
    "- Kateri je najbolj priljubljen hrib za vsako hribovje?\n",
    "- Ali obstaja dejavnik zaradi katerega so gorovja bolj priljubljena?\n"
   ]
  },
  {
   "cell_type": "markdown",
   "metadata": {},
   "source": [
    "## Analiza"
   ]
  },
  {
   "cell_type": "code",
   "execution_count": 1,
   "metadata": {},
   "outputs": [],
   "source": [
    "import pandas as pd\n",
    "pd.options.display.max_rows = 10\n",
    "%matplotlib inline"
   ]
  },
  {
   "cell_type": "markdown",
   "metadata": {},
   "source": [
    "Podatki:"
   ]
  },
  {
   "cell_type": "code",
   "execution_count": 2,
   "metadata": {},
   "outputs": [],
   "source": [
    "import os.path\n",
    "csv_datoteka = os.path.join(\"obdelani-podatki\", \"hribi.csv\")\n",
    "hribi = pd.read_csv(csv_datoteka)"
   ]
  },
  {
   "cell_type": "code",
   "execution_count": 3,
   "metadata": {},
   "outputs": [
    {
     "data": {
      "text/html": [
       "<div>\n",
       "<style scoped>\n",
       "    .dataframe tbody tr th:only-of-type {\n",
       "        vertical-align: middle;\n",
       "    }\n",
       "\n",
       "    .dataframe tbody tr th {\n",
       "        vertical-align: top;\n",
       "    }\n",
       "\n",
       "    .dataframe thead th {\n",
       "        text-align: right;\n",
       "    }\n",
       "</style>\n",
       "<table border=\"1\" class=\"dataframe\">\n",
       "  <thead>\n",
       "    <tr style=\"text-align: right;\">\n",
       "      <th></th>\n",
       "      <th>id</th>\n",
       "      <th>gora</th>\n",
       "      <th>višina</th>\n",
       "      <th>priljubljenost</th>\n",
       "      <th>gorovje</th>\n",
       "    </tr>\n",
       "  </thead>\n",
       "  <tbody>\n",
       "    <tr>\n",
       "      <th>0</th>\n",
       "      <td>127</td>\n",
       "      <td>Snežnik</td>\n",
       "      <td>1796</td>\n",
       "      <td>99</td>\n",
       "      <td>Goriško, Notranjsko in Snežniško hribovje</td>\n",
       "    </tr>\n",
       "    <tr>\n",
       "      <th>1</th>\n",
       "      <td>556</td>\n",
       "      <td>Mali Snežnik</td>\n",
       "      <td>1694</td>\n",
       "      <td>81</td>\n",
       "      <td>Goriško, Notranjsko in Snežniško hribovje</td>\n",
       "    </tr>\n",
       "    <tr>\n",
       "      <th>2</th>\n",
       "      <td>511</td>\n",
       "      <td>Mali Golak</td>\n",
       "      <td>1495</td>\n",
       "      <td>96</td>\n",
       "      <td>Goriško, Notranjsko in Snežniško hribovje</td>\n",
       "    </tr>\n",
       "    <tr>\n",
       "      <th>3</th>\n",
       "      <td>529</td>\n",
       "      <td>Srednji Golak</td>\n",
       "      <td>1480</td>\n",
       "      <td>78</td>\n",
       "      <td>Goriško, Notranjsko in Snežniško hribovje</td>\n",
       "    </tr>\n",
       "    <tr>\n",
       "      <th>4</th>\n",
       "      <td>551</td>\n",
       "      <td>Mrzovec</td>\n",
       "      <td>1410</td>\n",
       "      <td>79</td>\n",
       "      <td>Goriško, Notranjsko in Snežniško hribovje</td>\n",
       "    </tr>\n",
       "    <tr>\n",
       "      <th>...</th>\n",
       "      <td>...</td>\n",
       "      <td>...</td>\n",
       "      <td>...</td>\n",
       "      <td>...</td>\n",
       "      <td>...</td>\n",
       "    </tr>\n",
       "    <tr>\n",
       "      <th>1994</th>\n",
       "      <td>476</td>\n",
       "      <td>Pusti Peter</td>\n",
       "      <td>311</td>\n",
       "      <td>55</td>\n",
       "      <td>Zasavsko - Posavsko hribovje in Dolenjska</td>\n",
       "    </tr>\n",
       "    <tr>\n",
       "      <th>1995</th>\n",
       "      <td>2624</td>\n",
       "      <td>Herkulovo svetišče na Bregu</td>\n",
       "      <td>290</td>\n",
       "      <td>16</td>\n",
       "      <td>Zasavsko - Posavsko hribovje in Dolenjska</td>\n",
       "    </tr>\n",
       "    <tr>\n",
       "      <th>1996</th>\n",
       "      <td>2732</td>\n",
       "      <td>Izvir Krke</td>\n",
       "      <td>272</td>\n",
       "      <td>27</td>\n",
       "      <td>Zasavsko - Posavsko hribovje in Dolenjska</td>\n",
       "    </tr>\n",
       "    <tr>\n",
       "      <th>1997</th>\n",
       "      <td>2656</td>\n",
       "      <td>Stari grad nad Otočcem</td>\n",
       "      <td>250</td>\n",
       "      <td>22</td>\n",
       "      <td>Zasavsko - Posavsko hribovje in Dolenjska</td>\n",
       "    </tr>\n",
       "    <tr>\n",
       "      <th>1998</th>\n",
       "      <td>3326</td>\n",
       "      <td>Jelovička in Mihova jama</td>\n",
       "      <td>240</td>\n",
       "      <td>2</td>\n",
       "      <td>Zasavsko - Posavsko hribovje in Dolenjska</td>\n",
       "    </tr>\n",
       "  </tbody>\n",
       "</table>\n",
       "<p>1999 rows × 5 columns</p>\n",
       "</div>"
      ],
      "text/plain": [
       "        id                         gora  višina  priljubljenost  \\\n",
       "0      127                      Snežnik    1796              99   \n",
       "1      556                 Mali Snežnik    1694              81   \n",
       "2      511                   Mali Golak    1495              96   \n",
       "3      529                Srednji Golak    1480              78   \n",
       "4      551                      Mrzovec    1410              79   \n",
       "...    ...                          ...     ...             ...   \n",
       "1994   476                  Pusti Peter     311              55   \n",
       "1995  2624  Herkulovo svetišče na Bregu     290              16   \n",
       "1996  2732                   Izvir Krke     272              27   \n",
       "1997  2656       Stari grad nad Otočcem     250              22   \n",
       "1998  3326     Jelovička in Mihova jama     240               2   \n",
       "\n",
       "                                        gorovje  \n",
       "0     Goriško, Notranjsko in Snežniško hribovje  \n",
       "1     Goriško, Notranjsko in Snežniško hribovje  \n",
       "2     Goriško, Notranjsko in Snežniško hribovje  \n",
       "3     Goriško, Notranjsko in Snežniško hribovje  \n",
       "4     Goriško, Notranjsko in Snežniško hribovje  \n",
       "...                                         ...  \n",
       "1994  Zasavsko - Posavsko hribovje in Dolenjska  \n",
       "1995  Zasavsko - Posavsko hribovje in Dolenjska  \n",
       "1996  Zasavsko - Posavsko hribovje in Dolenjska  \n",
       "1997  Zasavsko - Posavsko hribovje in Dolenjska  \n",
       "1998  Zasavsko - Posavsko hribovje in Dolenjska  \n",
       "\n",
       "[1999 rows x 5 columns]"
      ]
     },
     "execution_count": 3,
     "metadata": {},
     "output_type": "execute_result"
    }
   ],
   "source": [
    "hribi"
   ]
  },
  {
   "cell_type": "markdown",
   "metadata": {},
   "source": [
    "#### Hipoteza 1: Kateri so najbolj priljubljeni slovenski hribi/ gorovja?"
   ]
  },
  {
   "cell_type": "markdown",
   "metadata": {},
   "source": [
    "Najpriljubnejši hribi:"
   ]
  },
  {
   "cell_type": "code",
   "execution_count": 4,
   "metadata": {},
   "outputs": [
    {
     "data": {
      "text/html": [
       "<div>\n",
       "<style scoped>\n",
       "    .dataframe tbody tr th:only-of-type {\n",
       "        vertical-align: middle;\n",
       "    }\n",
       "\n",
       "    .dataframe tbody tr th {\n",
       "        vertical-align: top;\n",
       "    }\n",
       "\n",
       "    .dataframe thead th {\n",
       "        text-align: right;\n",
       "    }\n",
       "</style>\n",
       "<table border=\"1\" class=\"dataframe\">\n",
       "  <thead>\n",
       "    <tr style=\"text-align: right;\">\n",
       "      <th></th>\n",
       "      <th>id</th>\n",
       "      <th>gora</th>\n",
       "      <th>višina</th>\n",
       "      <th>priljubljenost</th>\n",
       "      <th>gorovje</th>\n",
       "    </tr>\n",
       "  </thead>\n",
       "  <tbody>\n",
       "    <tr>\n",
       "      <th>284</th>\n",
       "      <td>1</td>\n",
       "      <td>Triglav</td>\n",
       "      <td>2864</td>\n",
       "      <td>100</td>\n",
       "      <td>Julijske Alpe</td>\n",
       "    </tr>\n",
       "    <tr>\n",
       "      <th>288</th>\n",
       "      <td>4</td>\n",
       "      <td>Mangart</td>\n",
       "      <td>2679</td>\n",
       "      <td>100</td>\n",
       "      <td>Julijske Alpe</td>\n",
       "    </tr>\n",
       "    <tr>\n",
       "      <th>385</th>\n",
       "      <td>150</td>\n",
       "      <td>Krn</td>\n",
       "      <td>2244</td>\n",
       "      <td>100</td>\n",
       "      <td>Julijske Alpe</td>\n",
       "    </tr>\n",
       "    <tr>\n",
       "      <th>436</th>\n",
       "      <td>77</td>\n",
       "      <td>Viševnik</td>\n",
       "      <td>2050</td>\n",
       "      <td>100</td>\n",
       "      <td>Julijske Alpe</td>\n",
       "    </tr>\n",
       "    <tr>\n",
       "      <th>560</th>\n",
       "      <td>133</td>\n",
       "      <td>Koča pri Triglavskih jezerih</td>\n",
       "      <td>1685</td>\n",
       "      <td>100</td>\n",
       "      <td>Julijske Alpe</td>\n",
       "    </tr>\n",
       "    <tr>\n",
       "      <th>...</th>\n",
       "      <td>...</td>\n",
       "      <td>...</td>\n",
       "      <td>...</td>\n",
       "      <td>...</td>\n",
       "      <td>...</td>\n",
       "    </tr>\n",
       "    <tr>\n",
       "      <th>879</th>\n",
       "      <td>95</td>\n",
       "      <td>Kamniška koča na Kamniškem sedlu</td>\n",
       "      <td>1864</td>\n",
       "      <td>100</td>\n",
       "      <td>Kamniško Savinjske Alpe</td>\n",
       "    </tr>\n",
       "    <tr>\n",
       "      <th>1102</th>\n",
       "      <td>53</td>\n",
       "      <td>Stol</td>\n",
       "      <td>2236</td>\n",
       "      <td>100</td>\n",
       "      <td>Karavanke</td>\n",
       "    </tr>\n",
       "    <tr>\n",
       "      <th>1117</th>\n",
       "      <td>52</td>\n",
       "      <td>Begunjščica</td>\n",
       "      <td>2060</td>\n",
       "      <td>100</td>\n",
       "      <td>Karavanke</td>\n",
       "    </tr>\n",
       "    <tr>\n",
       "      <th>1149</th>\n",
       "      <td>252</td>\n",
       "      <td>Golica</td>\n",
       "      <td>1835</td>\n",
       "      <td>100</td>\n",
       "      <td>Karavanke</td>\n",
       "    </tr>\n",
       "    <tr>\n",
       "      <th>1245</th>\n",
       "      <td>223</td>\n",
       "      <td>Dom na Kofcah</td>\n",
       "      <td>1488</td>\n",
       "      <td>100</td>\n",
       "      <td>Karavanke</td>\n",
       "    </tr>\n",
       "  </tbody>\n",
       "</table>\n",
       "<p>14 rows × 5 columns</p>\n",
       "</div>"
      ],
      "text/plain": [
       "       id                              gora  višina  priljubljenost  \\\n",
       "284     1                           Triglav    2864             100   \n",
       "288     4                           Mangart    2679             100   \n",
       "385   150                               Krn    2244             100   \n",
       "436    77                          Viševnik    2050             100   \n",
       "560   133      Koča pri Triglavskih jezerih    1685             100   \n",
       "...   ...                               ...     ...             ...   \n",
       "879    95  Kamniška koča na Kamniškem sedlu    1864             100   \n",
       "1102   53                              Stol    2236             100   \n",
       "1117   52                       Begunjščica    2060             100   \n",
       "1149  252                            Golica    1835             100   \n",
       "1245  223                     Dom na Kofcah    1488             100   \n",
       "\n",
       "                      gorovje  \n",
       "284             Julijske Alpe  \n",
       "288             Julijske Alpe  \n",
       "385             Julijske Alpe  \n",
       "436             Julijske Alpe  \n",
       "560             Julijske Alpe  \n",
       "...                       ...  \n",
       "879   Kamniško Savinjske Alpe  \n",
       "1102                Karavanke  \n",
       "1117                Karavanke  \n",
       "1149                Karavanke  \n",
       "1245                Karavanke  \n",
       "\n",
       "[14 rows x 5 columns]"
      ]
     },
     "execution_count": 4,
     "metadata": {},
     "output_type": "execute_result"
    }
   ],
   "source": [
    "priljubljeni_hribi = hribi[hribi.priljubljenost == 100]\n",
    "priljubljeni_hribi"
   ]
  },
  {
   "cell_type": "markdown",
   "metadata": {},
   "source": [
    "In najpriljubnejša gorovja:"
   ]
  },
  {
   "cell_type": "code",
   "execution_count": 5,
   "metadata": {},
   "outputs": [
    {
     "data": {
      "text/plain": [
       "gorovje\n",
       "Kamniško Savinjske Alpe                          67.580292\n",
       "Julijske Alpe                                    67.426471\n",
       "Polhograjsko hribovje in Ljubljana               59.294118\n",
       "Goriško, Notranjsko in Snežniško hribovje        54.014085\n",
       "Zasavsko - Posavsko hribovje in Dolenjska        52.444444\n",
       "Karavanke                                        52.155172\n",
       "Škofjeloško, Cerkljansko hribovje in Jelovica    47.482270\n",
       "Pohorje in ostala severovzhodna Slovenija        44.887931\n",
       "Name: priljubljenost, dtype: float64"
      ]
     },
     "execution_count": 5,
     "metadata": {},
     "output_type": "execute_result"
    }
   ],
   "source": [
    "prilj_gorovja = hribi.groupby(\"gorovje\").mean().sort_values(\"priljubljenost\", ascending=False).priljubljenost\n",
    "prilj_gorovja"
   ]
  },
  {
   "cell_type": "markdown",
   "metadata": {},
   "source": [
    "Najpriljubnejših hribov je 14 (Golica, Stol, Krn, Dom na Kofcah, Begunjščica, Grintovec, Viševnik, Koča pri Triglavskih jezerih, Triglav, Kamniška koča na Kamniškem sedlu, Velika Raduha, Ojstrica, Mangart in Storžič, ker imajo vsi enako priljubljenost, 100), najpriljubnejše gorovje pa so Kamniško Savinjske Alpe."
   ]
  },
  {
   "cell_type": "markdown",
   "metadata": {},
   "source": [
    "#### Hipoteza 2: Višji vrhovi so bolj popularni.\n",
    "Pa poglejmo hribe razvrščene po višini:"
   ]
  },
  {
   "cell_type": "code",
   "execution_count": 6,
   "metadata": {},
   "outputs": [
    {
     "data": {
      "text/html": [
       "<div>\n",
       "<style scoped>\n",
       "    .dataframe tbody tr th:only-of-type {\n",
       "        vertical-align: middle;\n",
       "    }\n",
       "\n",
       "    .dataframe tbody tr th {\n",
       "        vertical-align: top;\n",
       "    }\n",
       "\n",
       "    .dataframe thead th {\n",
       "        text-align: right;\n",
       "    }\n",
       "</style>\n",
       "<table border=\"1\" class=\"dataframe\">\n",
       "  <thead>\n",
       "    <tr style=\"text-align: right;\">\n",
       "      <th></th>\n",
       "      <th>id</th>\n",
       "      <th>gora</th>\n",
       "      <th>višina</th>\n",
       "      <th>priljubljenost</th>\n",
       "      <th>gorovje</th>\n",
       "    </tr>\n",
       "  </thead>\n",
       "  <tbody>\n",
       "    <tr>\n",
       "      <th>284</th>\n",
       "      <td>1</td>\n",
       "      <td>Triglav</td>\n",
       "      <td>2864</td>\n",
       "      <td>100</td>\n",
       "      <td>Julijske Alpe</td>\n",
       "    </tr>\n",
       "    <tr>\n",
       "      <th>285</th>\n",
       "      <td>629</td>\n",
       "      <td>Montaž / Jôf di Montasio</td>\n",
       "      <td>2753</td>\n",
       "      <td>98</td>\n",
       "      <td>Julijske Alpe</td>\n",
       "    </tr>\n",
       "    <tr>\n",
       "      <th>286</th>\n",
       "      <td>2</td>\n",
       "      <td>Škrlatica</td>\n",
       "      <td>2740</td>\n",
       "      <td>99</td>\n",
       "      <td>Julijske Alpe</td>\n",
       "    </tr>\n",
       "    <tr>\n",
       "      <th>287</th>\n",
       "      <td>3</td>\n",
       "      <td>Mali Triglav</td>\n",
       "      <td>2725</td>\n",
       "      <td>92</td>\n",
       "      <td>Julijske Alpe</td>\n",
       "    </tr>\n",
       "    <tr>\n",
       "      <th>288</th>\n",
       "      <td>4</td>\n",
       "      <td>Mangart</td>\n",
       "      <td>2679</td>\n",
       "      <td>100</td>\n",
       "      <td>Julijske Alpe</td>\n",
       "    </tr>\n",
       "    <tr>\n",
       "      <th>...</th>\n",
       "      <td>...</td>\n",
       "      <td>...</td>\n",
       "      <td>...</td>\n",
       "      <td>...</td>\n",
       "      <td>...</td>\n",
       "    </tr>\n",
       "    <tr>\n",
       "      <th>279</th>\n",
       "      <td>2913</td>\n",
       "      <td>Vanganelsko jezero</td>\n",
       "      <td>55</td>\n",
       "      <td>20</td>\n",
       "      <td>Goriško, Notranjsko in Snežniško hribovje</td>\n",
       "    </tr>\n",
       "    <tr>\n",
       "      <th>280</th>\n",
       "      <td>2941</td>\n",
       "      <td>Strunjanski križ</td>\n",
       "      <td>53</td>\n",
       "      <td>29</td>\n",
       "      <td>Goriško, Notranjsko in Snežniško hribovje</td>\n",
       "    </tr>\n",
       "    <tr>\n",
       "      <th>281</th>\n",
       "      <td>2945</td>\n",
       "      <td>Debeli rtič</td>\n",
       "      <td>28</td>\n",
       "      <td>23</td>\n",
       "      <td>Goriško, Notranjsko in Snežniško hribovje</td>\n",
       "    </tr>\n",
       "    <tr>\n",
       "      <th>282</th>\n",
       "      <td>891</td>\n",
       "      <td>Ankaran</td>\n",
       "      <td>18</td>\n",
       "      <td>80</td>\n",
       "      <td>Goriško, Notranjsko in Snežniško hribovje</td>\n",
       "    </tr>\n",
       "    <tr>\n",
       "      <th>283</th>\n",
       "      <td>3115</td>\n",
       "      <td>Strunjanske soline</td>\n",
       "      <td>2</td>\n",
       "      <td>23</td>\n",
       "      <td>Goriško, Notranjsko in Snežniško hribovje</td>\n",
       "    </tr>\n",
       "  </tbody>\n",
       "</table>\n",
       "<p>1999 rows × 5 columns</p>\n",
       "</div>"
      ],
      "text/plain": [
       "       id                      gora  višina  priljubljenost  \\\n",
       "284     1                   Triglav    2864             100   \n",
       "285   629  Montaž / Jôf di Montasio    2753              98   \n",
       "286     2                 Škrlatica    2740              99   \n",
       "287     3              Mali Triglav    2725              92   \n",
       "288     4                   Mangart    2679             100   \n",
       "..    ...                       ...     ...             ...   \n",
       "279  2913        Vanganelsko jezero      55              20   \n",
       "280  2941          Strunjanski križ      53              29   \n",
       "281  2945               Debeli rtič      28              23   \n",
       "282   891                   Ankaran      18              80   \n",
       "283  3115        Strunjanske soline       2              23   \n",
       "\n",
       "                                       gorovje  \n",
       "284                              Julijske Alpe  \n",
       "285                              Julijske Alpe  \n",
       "286                              Julijske Alpe  \n",
       "287                              Julijske Alpe  \n",
       "288                              Julijske Alpe  \n",
       "..                                         ...  \n",
       "279  Goriško, Notranjsko in Snežniško hribovje  \n",
       "280  Goriško, Notranjsko in Snežniško hribovje  \n",
       "281  Goriško, Notranjsko in Snežniško hribovje  \n",
       "282  Goriško, Notranjsko in Snežniško hribovje  \n",
       "283  Goriško, Notranjsko in Snežniško hribovje  \n",
       "\n",
       "[1999 rows x 5 columns]"
      ]
     },
     "execution_count": 6,
     "metadata": {},
     "output_type": "execute_result"
    }
   ],
   "source": [
    "hribi.sort_values(\"višina\", ascending=False)"
   ]
  },
  {
   "cell_type": "markdown",
   "metadata": {},
   "source": [
    "In po priljubljenosti:"
   ]
  },
  {
   "cell_type": "code",
   "execution_count": 7,
   "metadata": {},
   "outputs": [
    {
     "data": {
      "text/html": [
       "<div>\n",
       "<style scoped>\n",
       "    .dataframe tbody tr th:only-of-type {\n",
       "        vertical-align: middle;\n",
       "    }\n",
       "\n",
       "    .dataframe tbody tr th {\n",
       "        vertical-align: top;\n",
       "    }\n",
       "\n",
       "    .dataframe thead th {\n",
       "        text-align: right;\n",
       "    }\n",
       "</style>\n",
       "<table border=\"1\" class=\"dataframe\">\n",
       "  <thead>\n",
       "    <tr style=\"text-align: right;\">\n",
       "      <th></th>\n",
       "      <th>id</th>\n",
       "      <th>gora</th>\n",
       "      <th>višina</th>\n",
       "      <th>priljubljenost</th>\n",
       "      <th>gorovje</th>\n",
       "    </tr>\n",
       "  </thead>\n",
       "  <tbody>\n",
       "    <tr>\n",
       "      <th>1149</th>\n",
       "      <td>252</td>\n",
       "      <td>Golica</td>\n",
       "      <td>1835</td>\n",
       "      <td>100</td>\n",
       "      <td>Karavanke</td>\n",
       "    </tr>\n",
       "    <tr>\n",
       "      <th>1102</th>\n",
       "      <td>53</td>\n",
       "      <td>Stol</td>\n",
       "      <td>2236</td>\n",
       "      <td>100</td>\n",
       "      <td>Karavanke</td>\n",
       "    </tr>\n",
       "    <tr>\n",
       "      <th>385</th>\n",
       "      <td>150</td>\n",
       "      <td>Krn</td>\n",
       "      <td>2244</td>\n",
       "      <td>100</td>\n",
       "      <td>Julijske Alpe</td>\n",
       "    </tr>\n",
       "    <tr>\n",
       "      <th>1245</th>\n",
       "      <td>223</td>\n",
       "      <td>Dom na Kofcah</td>\n",
       "      <td>1488</td>\n",
       "      <td>100</td>\n",
       "      <td>Karavanke</td>\n",
       "    </tr>\n",
       "    <tr>\n",
       "      <th>1117</th>\n",
       "      <td>52</td>\n",
       "      <td>Begunjščica</td>\n",
       "      <td>2060</td>\n",
       "      <td>100</td>\n",
       "      <td>Karavanke</td>\n",
       "    </tr>\n",
       "    <tr>\n",
       "      <th>...</th>\n",
       "      <td>...</td>\n",
       "      <td>...</td>\n",
       "      <td>...</td>\n",
       "      <td>...</td>\n",
       "      <td>...</td>\n",
       "    </tr>\n",
       "    <tr>\n",
       "      <th>1968</th>\n",
       "      <td>3330</td>\n",
       "      <td>Velika Radenska stena</td>\n",
       "      <td>439</td>\n",
       "      <td>2</td>\n",
       "      <td>Zasavsko - Posavsko hribovje in Dolenjska</td>\n",
       "    </tr>\n",
       "    <tr>\n",
       "      <th>1985</th>\n",
       "      <td>3329</td>\n",
       "      <td>Radenski kal</td>\n",
       "      <td>360</td>\n",
       "      <td>2</td>\n",
       "      <td>Zasavsko - Posavsko hribovje in Dolenjska</td>\n",
       "    </tr>\n",
       "    <tr>\n",
       "      <th>1912</th>\n",
       "      <td>3335</td>\n",
       "      <td>Veliki Bojanski vrh</td>\n",
       "      <td>627</td>\n",
       "      <td>1</td>\n",
       "      <td>Zasavsko - Posavsko hribovje in Dolenjska</td>\n",
       "    </tr>\n",
       "    <tr>\n",
       "      <th>209</th>\n",
       "      <td>3322</td>\n",
       "      <td>Griček</td>\n",
       "      <td>532</td>\n",
       "      <td>1</td>\n",
       "      <td>Goriško, Notranjsko in Snežniško hribovje</td>\n",
       "    </tr>\n",
       "    <tr>\n",
       "      <th>1970</th>\n",
       "      <td>3331</td>\n",
       "      <td>Mala Radenska stena</td>\n",
       "      <td>428</td>\n",
       "      <td>1</td>\n",
       "      <td>Zasavsko - Posavsko hribovje in Dolenjska</td>\n",
       "    </tr>\n",
       "  </tbody>\n",
       "</table>\n",
       "<p>1999 rows × 5 columns</p>\n",
       "</div>"
      ],
      "text/plain": [
       "        id                   gora  višina  priljubljenost  \\\n",
       "1149   252                 Golica    1835             100   \n",
       "1102    53                   Stol    2236             100   \n",
       "385    150                    Krn    2244             100   \n",
       "1245   223          Dom na Kofcah    1488             100   \n",
       "1117    52            Begunjščica    2060             100   \n",
       "...    ...                    ...     ...             ...   \n",
       "1968  3330  Velika Radenska stena     439               2   \n",
       "1985  3329           Radenski kal     360               2   \n",
       "1912  3335    Veliki Bojanski vrh     627               1   \n",
       "209   3322                 Griček     532               1   \n",
       "1970  3331    Mala Radenska stena     428               1   \n",
       "\n",
       "                                        gorovje  \n",
       "1149                                  Karavanke  \n",
       "1102                                  Karavanke  \n",
       "385                               Julijske Alpe  \n",
       "1245                                  Karavanke  \n",
       "1117                                  Karavanke  \n",
       "...                                         ...  \n",
       "1968  Zasavsko - Posavsko hribovje in Dolenjska  \n",
       "1985  Zasavsko - Posavsko hribovje in Dolenjska  \n",
       "1912  Zasavsko - Posavsko hribovje in Dolenjska  \n",
       "209   Goriško, Notranjsko in Snežniško hribovje  \n",
       "1970  Zasavsko - Posavsko hribovje in Dolenjska  \n",
       "\n",
       "[1999 rows x 5 columns]"
      ]
     },
     "execution_count": 7,
     "metadata": {},
     "output_type": "execute_result"
    }
   ],
   "source": [
    "hribi.sort_values(\"priljubljenost\", ascending=False)"
   ]
  },
  {
   "cell_type": "markdown",
   "metadata": {},
   "source": [
    "Sedaj pa še odvisnost priljubljenosti od višine:"
   ]
  },
  {
   "cell_type": "code",
   "execution_count": 8,
   "metadata": {},
   "outputs": [
    {
     "data": {
      "text/plain": [
       "<AxesSubplot:xlabel='višina', ylabel='priljubljenost'>"
      ]
     },
     "execution_count": 8,
     "metadata": {},
     "output_type": "execute_result"
    },
    {
     "data": {
      "image/png": "[encoded data removed]",
      "text/plain": [
       "<Figure size 432x288 with 1 Axes>"
      ]
     },
     "metadata": {
      "needs_background": "light"
     },
     "output_type": "display_data"
    }
   ],
   "source": [
    "hribi.plot.scatter(x = \"višina\", y = \"priljubljenost\")"
   ]
  },
  {
   "cell_type": "markdown",
   "metadata": {},
   "source": [
    "Iz grafa ne moremo razbrati nobene povezanosti med višino in priljubljenostjo hriba. Priljubljenost hriba torej ni odvisna od njegove višine. Hipoteza je s tem zavrnjena."
   ]
  },
  {
   "cell_type": "markdown",
   "metadata": {},
   "source": [
    "#### Hipoteza 3: Kateri je najbolj priljubljen hrib za vsako gorovje?"
   ]
  },
  {
   "cell_type": "markdown",
   "metadata": {},
   "source": [
    "Ustvarimo novo tabelo:"
   ]
  },
  {
   "cell_type": "code",
   "execution_count": 9,
   "metadata": {},
   "outputs": [],
   "source": [
    "gorovja_z_najpopolarnejsimi_hribi = hribi.groupby(\"gorovje\").mean().reset_index(drop=False)"
   ]
  },
  {
   "cell_type": "code",
   "execution_count": 10,
   "metadata": {},
   "outputs": [
    {
     "data": {
      "text/html": [
       "<div>\n",
       "<style scoped>\n",
       "    .dataframe tbody tr th:only-of-type {\n",
       "        vertical-align: middle;\n",
       "    }\n",
       "\n",
       "    .dataframe tbody tr th {\n",
       "        vertical-align: top;\n",
       "    }\n",
       "\n",
       "    .dataframe thead th {\n",
       "        text-align: right;\n",
       "    }\n",
       "</style>\n",
       "<table border=\"1\" class=\"dataframe\">\n",
       "  <thead>\n",
       "    <tr style=\"text-align: right;\">\n",
       "      <th></th>\n",
       "      <th>gorovje</th>\n",
       "      <th>id</th>\n",
       "      <th>višina</th>\n",
       "      <th>priljubljenost</th>\n",
       "    </tr>\n",
       "  </thead>\n",
       "  <tbody>\n",
       "    <tr>\n",
       "      <th>0</th>\n",
       "      <td>Goriško, Notranjsko in Snežniško hribovje</td>\n",
       "      <td>1635.151408</td>\n",
       "      <td>773.415493</td>\n",
       "      <td>54.014085</td>\n",
       "    </tr>\n",
       "    <tr>\n",
       "      <th>1</th>\n",
       "      <td>Julijske Alpe</td>\n",
       "      <td>1176.167279</td>\n",
       "      <td>1644.661765</td>\n",
       "      <td>67.426471</td>\n",
       "    </tr>\n",
       "    <tr>\n",
       "      <th>2</th>\n",
       "      <td>Kamniško Savinjske Alpe</td>\n",
       "      <td>1196.076642</td>\n",
       "      <td>1393.992701</td>\n",
       "      <td>67.580292</td>\n",
       "    </tr>\n",
       "    <tr>\n",
       "      <th>3</th>\n",
       "      <td>Karavanke</td>\n",
       "      <td>1615.942529</td>\n",
       "      <td>1323.373563</td>\n",
       "      <td>52.155172</td>\n",
       "    </tr>\n",
       "    <tr>\n",
       "      <th>4</th>\n",
       "      <td>Pohorje in ostala severovzhodna Slovenija</td>\n",
       "      <td>2049.594828</td>\n",
       "      <td>818.336207</td>\n",
       "      <td>44.887931</td>\n",
       "    </tr>\n",
       "    <tr>\n",
       "      <th>5</th>\n",
       "      <td>Polhograjsko hribovje in Ljubljana</td>\n",
       "      <td>1430.400000</td>\n",
       "      <td>640.011765</td>\n",
       "      <td>59.294118</td>\n",
       "    </tr>\n",
       "    <tr>\n",
       "      <th>6</th>\n",
       "      <td>Zasavsko - Posavsko hribovje in Dolenjska</td>\n",
       "      <td>1793.000000</td>\n",
       "      <td>686.661836</td>\n",
       "      <td>52.444444</td>\n",
       "    </tr>\n",
       "    <tr>\n",
       "      <th>7</th>\n",
       "      <td>Škofjeloško, Cerkljansko hribovje in Jelovica</td>\n",
       "      <td>1921.851064</td>\n",
       "      <td>960.184397</td>\n",
       "      <td>47.482270</td>\n",
       "    </tr>\n",
       "  </tbody>\n",
       "</table>\n",
       "</div>"
      ],
      "text/plain": [
       "                                         gorovje           id       višina  \\\n",
       "0      Goriško, Notranjsko in Snežniško hribovje  1635.151408   773.415493   \n",
       "1                                  Julijske Alpe  1176.167279  1644.661765   \n",
       "2                        Kamniško Savinjske Alpe  1196.076642  1393.992701   \n",
       "3                                      Karavanke  1615.942529  1323.373563   \n",
       "4      Pohorje in ostala severovzhodna Slovenija  2049.594828   818.336207   \n",
       "5             Polhograjsko hribovje in Ljubljana  1430.400000   640.011765   \n",
       "6      Zasavsko - Posavsko hribovje in Dolenjska  1793.000000   686.661836   \n",
       "7  Škofjeloško, Cerkljansko hribovje in Jelovica  1921.851064   960.184397   \n",
       "\n",
       "   priljubljenost  \n",
       "0       54.014085  \n",
       "1       67.426471  \n",
       "2       67.580292  \n",
       "3       52.155172  \n",
       "4       44.887931  \n",
       "5       59.294118  \n",
       "6       52.444444  \n",
       "7       47.482270  "
      ]
     },
     "execution_count": 10,
     "metadata": {},
     "output_type": "execute_result"
    }
   ],
   "source": [
    "gorovja_z_najpopolarnejsimi_hribi"
   ]
  },
  {
   "cell_type": "markdown",
   "metadata": {},
   "source": [
    "Definiramo novo funkcijo za iskanje najbolj priljubljenega hriba v gorovju"
   ]
  },
  {
   "cell_type": "code",
   "execution_count": 11,
   "metadata": {},
   "outputs": [],
   "source": [
    "def dodaj_hrib(hribovje):\n",
    "    return hribi[hribi.gorovje == hribovje].sort_values(\"priljubljenost\", ascending=False).iloc[0][\"gora\"]"
   ]
  },
  {
   "cell_type": "markdown",
   "metadata": {},
   "source": [
    "Funkcijo uporabimo na tabeli gorovja_z_najpopolarnejsimi_hribi"
   ]
  },
  {
   "cell_type": "code",
   "execution_count": 12,
   "metadata": {},
   "outputs": [],
   "source": [
    "gorovja_z_najpopolarnejsimi_hribi[\"najpopularnejši_hrib\"] = gorovja_z_najpopolarnejsimi_hribi[\"gorovje\"].apply(dodaj_hrib)"
   ]
  },
  {
   "cell_type": "markdown",
   "metadata": {},
   "source": [
    "Pogledamo rezultate"
   ]
  },
  {
   "cell_type": "code",
   "execution_count": 13,
   "metadata": {},
   "outputs": [
    {
     "data": {
      "text/html": [
       "<div>\n",
       "<style scoped>\n",
       "    .dataframe tbody tr th:only-of-type {\n",
       "        vertical-align: middle;\n",
       "    }\n",
       "\n",
       "    .dataframe tbody tr th {\n",
       "        vertical-align: top;\n",
       "    }\n",
       "\n",
       "    .dataframe thead th {\n",
       "        text-align: right;\n",
       "    }\n",
       "</style>\n",
       "<table border=\"1\" class=\"dataframe\">\n",
       "  <thead>\n",
       "    <tr style=\"text-align: right;\">\n",
       "      <th></th>\n",
       "      <th>gorovje</th>\n",
       "      <th>id</th>\n",
       "      <th>višina</th>\n",
       "      <th>priljubljenost</th>\n",
       "      <th>najpopularnejši_hrib</th>\n",
       "    </tr>\n",
       "  </thead>\n",
       "  <tbody>\n",
       "    <tr>\n",
       "      <th>0</th>\n",
       "      <td>Goriško, Notranjsko in Snežniško hribovje</td>\n",
       "      <td>1635.151408</td>\n",
       "      <td>773.415493</td>\n",
       "      <td>54.014085</td>\n",
       "      <td>Snežnik</td>\n",
       "    </tr>\n",
       "    <tr>\n",
       "      <th>1</th>\n",
       "      <td>Julijske Alpe</td>\n",
       "      <td>1176.167279</td>\n",
       "      <td>1644.661765</td>\n",
       "      <td>67.426471</td>\n",
       "      <td>Triglav</td>\n",
       "    </tr>\n",
       "    <tr>\n",
       "      <th>2</th>\n",
       "      <td>Kamniško Savinjske Alpe</td>\n",
       "      <td>1196.076642</td>\n",
       "      <td>1393.992701</td>\n",
       "      <td>67.580292</td>\n",
       "      <td>Grintovec</td>\n",
       "    </tr>\n",
       "    <tr>\n",
       "      <th>3</th>\n",
       "      <td>Karavanke</td>\n",
       "      <td>1615.942529</td>\n",
       "      <td>1323.373563</td>\n",
       "      <td>52.155172</td>\n",
       "      <td>Stol</td>\n",
       "    </tr>\n",
       "    <tr>\n",
       "      <th>4</th>\n",
       "      <td>Pohorje in ostala severovzhodna Slovenija</td>\n",
       "      <td>2049.594828</td>\n",
       "      <td>818.336207</td>\n",
       "      <td>44.887931</td>\n",
       "      <td>Lovrenška jezera</td>\n",
       "    </tr>\n",
       "    <tr>\n",
       "      <th>5</th>\n",
       "      <td>Polhograjsko hribovje in Ljubljana</td>\n",
       "      <td>1430.400000</td>\n",
       "      <td>640.011765</td>\n",
       "      <td>59.294118</td>\n",
       "      <td>Šmarna gora</td>\n",
       "    </tr>\n",
       "    <tr>\n",
       "      <th>6</th>\n",
       "      <td>Zasavsko - Posavsko hribovje in Dolenjska</td>\n",
       "      <td>1793.000000</td>\n",
       "      <td>686.661836</td>\n",
       "      <td>52.444444</td>\n",
       "      <td>Kum</td>\n",
       "    </tr>\n",
       "    <tr>\n",
       "      <th>7</th>\n",
       "      <td>Škofjeloško, Cerkljansko hribovje in Jelovica</td>\n",
       "      <td>1921.851064</td>\n",
       "      <td>960.184397</td>\n",
       "      <td>47.482270</td>\n",
       "      <td>Krekova koča na Ratitovcu</td>\n",
       "    </tr>\n",
       "  </tbody>\n",
       "</table>\n",
       "</div>"
      ],
      "text/plain": [
       "                                         gorovje           id       višina  \\\n",
       "0      Goriško, Notranjsko in Snežniško hribovje  1635.151408   773.415493   \n",
       "1                                  Julijske Alpe  1176.167279  1644.661765   \n",
       "2                        Kamniško Savinjske Alpe  1196.076642  1393.992701   \n",
       "3                                      Karavanke  1615.942529  1323.373563   \n",
       "4      Pohorje in ostala severovzhodna Slovenija  2049.594828   818.336207   \n",
       "5             Polhograjsko hribovje in Ljubljana  1430.400000   640.011765   \n",
       "6      Zasavsko - Posavsko hribovje in Dolenjska  1793.000000   686.661836   \n",
       "7  Škofjeloško, Cerkljansko hribovje in Jelovica  1921.851064   960.184397   \n",
       "\n",
       "   priljubljenost       najpopularnejši_hrib  \n",
       "0       54.014085                    Snežnik  \n",
       "1       67.426471                    Triglav  \n",
       "2       67.580292                  Grintovec  \n",
       "3       52.155172                       Stol  \n",
       "4       44.887931           Lovrenška jezera  \n",
       "5       59.294118                Šmarna gora  \n",
       "6       52.444444                        Kum  \n",
       "7       47.482270  Krekova koča na Ratitovcu  "
      ]
     },
     "execution_count": 13,
     "metadata": {},
     "output_type": "execute_result"
    }
   ],
   "source": [
    "gorovja_z_najpopolarnejsimi_hribi"
   ]
  },
  {
   "cell_type": "markdown",
   "metadata": {},
   "source": [
    "Za vsako gorovje smo našli njegov najbolj priljubljen hrib."
   ]
  },
  {
   "cell_type": "markdown",
   "metadata": {},
   "source": [
    "#### Hipoteza 4: Ali obstaja dejavnik zaradi katerega so gorovja bolj priljubljena?"
   ]
  },
  {
   "cell_type": "markdown",
   "metadata": {},
   "source": [
    "Gorovja s številom hribov med prvimi 100 po priljubljenosti:"
   ]
  },
  {
   "cell_type": "code",
   "execution_count": 14,
   "metadata": {},
   "outputs": [
    {
     "data": {
      "text/plain": [
       "gorovje\n",
       "Julijske Alpe                                    34\n",
       "Kamniško Savinjske Alpe                          28\n",
       "Karavanke                                        18\n",
       "Škofjeloško, Cerkljansko hribovje in Jelovica     6\n",
       "Goriško, Notranjsko in Snežniško hribovje         6\n",
       "Polhograjsko hribovje in Ljubljana                4\n",
       "Zasavsko - Posavsko hribovje in Dolenjska         3\n",
       "Pohorje in ostala severovzhodna Slovenija         1\n",
       "Name: gora, dtype: int64"
      ]
     },
     "execution_count": 14,
     "metadata": {},
     "output_type": "execute_result"
    }
   ],
   "source": [
    "hribi.sort_values(\"priljubljenost\", ascending=False).head(100).groupby(\"gorovje\").count()[\"gora\"].sort_values(ascending=False)"
   ]
  },
  {
   "cell_type": "markdown",
   "metadata": {},
   "source": [
    "Gorovja s številom hribov s priljubljenostjo 100:"
   ]
  },
  {
   "cell_type": "code",
   "execution_count": 15,
   "metadata": {},
   "outputs": [
    {
     "data": {
      "text/plain": [
       "gorovje\n",
       "Julijske Alpe              5\n",
       "Kamniško Savinjske Alpe    5\n",
       "Karavanke                  4\n",
       "Name: gora, dtype: int64"
      ]
     },
     "execution_count": 15,
     "metadata": {},
     "output_type": "execute_result"
    }
   ],
   "source": [
    "hribi[hribi.priljubljenost == 100].groupby(\"gorovje\").count()[\"gora\"]"
   ]
  },
  {
   "cell_type": "markdown",
   "metadata": {},
   "source": [
    "Povprečje priljubljenosti za vsako hribovje:"
   ]
  },
  {
   "cell_type": "code",
   "execution_count": 16,
   "metadata": {},
   "outputs": [
    {
     "data": {
      "text/plain": [
       "gorovje\n",
       "Pohorje in ostala severovzhodna Slovenija        44.887931\n",
       "Škofjeloško, Cerkljansko hribovje in Jelovica    47.482270\n",
       "Karavanke                                        52.155172\n",
       "Zasavsko - Posavsko hribovje in Dolenjska        52.444444\n",
       "Goriško, Notranjsko in Snežniško hribovje        54.014085\n",
       "Polhograjsko hribovje in Ljubljana               59.294118\n",
       "Julijske Alpe                                    67.426471\n",
       "Kamniško Savinjske Alpe                          67.580292\n",
       "Name: priljubljenost, dtype: float64"
      ]
     },
     "execution_count": 16,
     "metadata": {},
     "output_type": "execute_result"
    }
   ],
   "source": [
    "povp_prilj = hribi.groupby(\"gorovje\").mean().sort_values(\"priljubljenost\").priljubljenost\n",
    "povp_prilj"
   ]
  },
  {
   "cell_type": "code",
   "execution_count": 17,
   "metadata": {},
   "outputs": [
    {
     "data": {
      "text/plain": [
       "<AxesSubplot:xlabel='gorovje'>"
      ]
     },
     "execution_count": 17,
     "metadata": {},
     "output_type": "execute_result"
    },
    {
     "data": {
      "image/png": "[encoded data removed]",
      "text/plain": [
       "<Figure size 432x288 with 1 Axes>"
      ]
     },
     "metadata": {
      "needs_background": "light"
     },
     "output_type": "display_data"
    }
   ],
   "source": [
    "povp_prilj.plot.bar()"
   ]
  },
  {
   "cell_type": "markdown",
   "metadata": {},
   "source": [
    "Po številu hribov med prvimi stotimi po priljubljenosti so daleč najvišje Julijske Alpe, Kamniško Savinjske Alpe in Karavanke. Ravno samo te tri imajo hribe s popolno priljubljenostjo 100. Vendar če gledamo povprečne priljubljenosti za vsako hribovje, pa Karavanke padejo precej nizko, medtem ko se Kamniško Savinjske Alpe in Julijske Alpe obdržijo na vrhu. Iz zadnjega grafa je razvidno tudi, da so povprečno najpriljubnejše gorovje Kamniško Savinjske Alpe, takoj za njimi pa so Julijske Alpe z zelo majhno razliko.\n",
    "\n",
    "Ampak zakaj so ravno Kamniško Savinjske Alpe in Julijske Alpe tako visoko? In zakaj je njuna priljubljenost toliko višja od ostalih, z razliko več kot 8 od naslednjega najbolj priljubljenega gorovja, kar je tudi največji padec v priljubljenosti med dvema zaporednima gorovjema.\n",
    "\n",
    "Za vzrok za priljubljenost gorovij lahko pogledamo odvisnost priljubljenosti in višine. Ali je povprečna priljubljenost gorovja odvisna od njegove povprečne višine?"
   ]
  },
  {
   "cell_type": "markdown",
   "metadata": {},
   "source": [
    "Povprečne vrednosti za vsako gorovje:"
   ]
  },
  {
   "cell_type": "code",
   "execution_count": 18,
   "metadata": {},
   "outputs": [],
   "source": [
    "povprecje_gorovij = hribi.groupby(\"gorovje\").mean()"
   ]
  },
  {
   "cell_type": "code",
   "execution_count": 19,
   "metadata": {},
   "outputs": [
    {
     "data": {
      "text/html": [
       "<div>\n",
       "<style scoped>\n",
       "    .dataframe tbody tr th:only-of-type {\n",
       "        vertical-align: middle;\n",
       "    }\n",
       "\n",
       "    .dataframe tbody tr th {\n",
       "        vertical-align: top;\n",
       "    }\n",
       "\n",
       "    .dataframe thead th {\n",
       "        text-align: right;\n",
       "    }\n",
       "</style>\n",
       "<table border=\"1\" class=\"dataframe\">\n",
       "  <thead>\n",
       "    <tr style=\"text-align: right;\">\n",
       "      <th></th>\n",
       "      <th>id</th>\n",
       "      <th>višina</th>\n",
       "      <th>priljubljenost</th>\n",
       "    </tr>\n",
       "    <tr>\n",
       "      <th>gorovje</th>\n",
       "      <th></th>\n",
       "      <th></th>\n",
       "      <th></th>\n",
       "    </tr>\n",
       "  </thead>\n",
       "  <tbody>\n",
       "    <tr>\n",
       "      <th>Goriško, Notranjsko in Snežniško hribovje</th>\n",
       "      <td>1635.151408</td>\n",
       "      <td>773.415493</td>\n",
       "      <td>54.014085</td>\n",
       "    </tr>\n",
       "    <tr>\n",
       "      <th>Julijske Alpe</th>\n",
       "      <td>1176.167279</td>\n",
       "      <td>1644.661765</td>\n",
       "      <td>67.426471</td>\n",
       "    </tr>\n",
       "    <tr>\n",
       "      <th>Kamniško Savinjske Alpe</th>\n",
       "      <td>1196.076642</td>\n",
       "      <td>1393.992701</td>\n",
       "      <td>67.580292</td>\n",
       "    </tr>\n",
       "    <tr>\n",
       "      <th>Karavanke</th>\n",
       "      <td>1615.942529</td>\n",
       "      <td>1323.373563</td>\n",
       "      <td>52.155172</td>\n",
       "    </tr>\n",
       "    <tr>\n",
       "      <th>Pohorje in ostala severovzhodna Slovenija</th>\n",
       "      <td>2049.594828</td>\n",
       "      <td>818.336207</td>\n",
       "      <td>44.887931</td>\n",
       "    </tr>\n",
       "    <tr>\n",
       "      <th>Polhograjsko hribovje in Ljubljana</th>\n",
       "      <td>1430.400000</td>\n",
       "      <td>640.011765</td>\n",
       "      <td>59.294118</td>\n",
       "    </tr>\n",
       "    <tr>\n",
       "      <th>Zasavsko - Posavsko hribovje in Dolenjska</th>\n",
       "      <td>1793.000000</td>\n",
       "      <td>686.661836</td>\n",
       "      <td>52.444444</td>\n",
       "    </tr>\n",
       "    <tr>\n",
       "      <th>Škofjeloško, Cerkljansko hribovje in Jelovica</th>\n",
       "      <td>1921.851064</td>\n",
       "      <td>960.184397</td>\n",
       "      <td>47.482270</td>\n",
       "    </tr>\n",
       "  </tbody>\n",
       "</table>\n",
       "</div>"
      ],
      "text/plain": [
       "                                                        id       višina  \\\n",
       "gorovje                                                                   \n",
       "Goriško, Notranjsko in Snežniško hribovje      1635.151408   773.415493   \n",
       "Julijske Alpe                                  1176.167279  1644.661765   \n",
       "Kamniško Savinjske Alpe                        1196.076642  1393.992701   \n",
       "Karavanke                                      1615.942529  1323.373563   \n",
       "Pohorje in ostala severovzhodna Slovenija      2049.594828   818.336207   \n",
       "Polhograjsko hribovje in Ljubljana             1430.400000   640.011765   \n",
       "Zasavsko - Posavsko hribovje in Dolenjska      1793.000000   686.661836   \n",
       "Škofjeloško, Cerkljansko hribovje in Jelovica  1921.851064   960.184397   \n",
       "\n",
       "                                               priljubljenost  \n",
       "gorovje                                                        \n",
       "Goriško, Notranjsko in Snežniško hribovje           54.014085  \n",
       "Julijske Alpe                                       67.426471  \n",
       "Kamniško Savinjske Alpe                             67.580292  \n",
       "Karavanke                                           52.155172  \n",
       "Pohorje in ostala severovzhodna Slovenija           44.887931  \n",
       "Polhograjsko hribovje in Ljubljana                  59.294118  \n",
       "Zasavsko - Posavsko hribovje in Dolenjska           52.444444  \n",
       "Škofjeloško, Cerkljansko hribovje in Jelovica       47.482270  "
      ]
     },
     "execution_count": 19,
     "metadata": {},
     "output_type": "execute_result"
    }
   ],
   "source": [
    "povprecje_gorovij"
   ]
  },
  {
   "cell_type": "markdown",
   "metadata": {},
   "source": [
    "Odvisnost priljubljenosti gorovja od povprečne višine:"
   ]
  },
  {
   "cell_type": "code",
   "execution_count": 20,
   "metadata": {},
   "outputs": [
    {
     "data": {
      "text/plain": [
       "<AxesSubplot:xlabel='višina', ylabel='priljubljenost'>"
      ]
     },
     "execution_count": 20,
     "metadata": {},
     "output_type": "execute_result"
    },
    {
     "data": {
      "image/png": "[encoded data removed]",
      "text/plain": [
       "<Figure size 432x288 with 1 Axes>"
      ]
     },
     "metadata": {
      "needs_background": "light"
     },
     "output_type": "display_data"
    }
   ],
   "source": [
    "povprecje_gorovij.plot.scatter(x = \"višina\", y = \"priljubljenost\")"
   ]
  },
  {
   "cell_type": "markdown",
   "metadata": {},
   "source": [
    "Povprečna priljubljenost gorovja torej ni odvisna od njegove povprečne višine. Ali je mogoče odvisna od števila hribov?"
   ]
  },
  {
   "cell_type": "code",
   "execution_count": 21,
   "metadata": {},
   "outputs": [
    {
     "data": {
      "text/plain": [
       "gorovje\n",
       "Julijske Alpe                                    544\n",
       "Karavanke                                        348\n",
       "Goriško, Notranjsko in Snežniško hribovje        284\n",
       "Kamniško Savinjske Alpe                          274\n",
       "Zasavsko - Posavsko hribovje in Dolenjska        207\n",
       "Škofjeloško, Cerkljansko hribovje in Jelovica    141\n",
       "Pohorje in ostala severovzhodna Slovenija        116\n",
       "Polhograjsko hribovje in Ljubljana                85\n",
       "Name: gora, dtype: int64"
      ]
     },
     "execution_count": 21,
     "metadata": {},
     "output_type": "execute_result"
    }
   ],
   "source": [
    "stevilo_hribov = hribi.groupby(\"gorovje\").count().sort_values(\"višina\", ascending=False)[\"gora\"]\n",
    "stevilo_hribov"
   ]
  },
  {
   "cell_type": "code",
   "execution_count": 22,
   "metadata": {},
   "outputs": [
    {
     "data": {
      "text/html": [
       "<div>\n",
       "<style scoped>\n",
       "    .dataframe tbody tr th:only-of-type {\n",
       "        vertical-align: middle;\n",
       "    }\n",
       "\n",
       "    .dataframe tbody tr th {\n",
       "        vertical-align: top;\n",
       "    }\n",
       "\n",
       "    .dataframe thead th {\n",
       "        text-align: right;\n",
       "    }\n",
       "</style>\n",
       "<table border=\"1\" class=\"dataframe\">\n",
       "  <thead>\n",
       "    <tr style=\"text-align: right;\">\n",
       "      <th></th>\n",
       "      <th>gora</th>\n",
       "      <th>priljubljenost</th>\n",
       "    </tr>\n",
       "    <tr>\n",
       "      <th>gorovje</th>\n",
       "      <th></th>\n",
       "      <th></th>\n",
       "    </tr>\n",
       "  </thead>\n",
       "  <tbody>\n",
       "    <tr>\n",
       "      <th>Julijske Alpe</th>\n",
       "      <td>544</td>\n",
       "      <td>67.426471</td>\n",
       "    </tr>\n",
       "    <tr>\n",
       "      <th>Karavanke</th>\n",
       "      <td>348</td>\n",
       "      <td>52.155172</td>\n",
       "    </tr>\n",
       "    <tr>\n",
       "      <th>Goriško, Notranjsko in Snežniško hribovje</th>\n",
       "      <td>284</td>\n",
       "      <td>54.014085</td>\n",
       "    </tr>\n",
       "    <tr>\n",
       "      <th>Kamniško Savinjske Alpe</th>\n",
       "      <td>274</td>\n",
       "      <td>67.580292</td>\n",
       "    </tr>\n",
       "    <tr>\n",
       "      <th>Zasavsko - Posavsko hribovje in Dolenjska</th>\n",
       "      <td>207</td>\n",
       "      <td>52.444444</td>\n",
       "    </tr>\n",
       "    <tr>\n",
       "      <th>Škofjeloško, Cerkljansko hribovje in Jelovica</th>\n",
       "      <td>141</td>\n",
       "      <td>47.482270</td>\n",
       "    </tr>\n",
       "    <tr>\n",
       "      <th>Pohorje in ostala severovzhodna Slovenija</th>\n",
       "      <td>116</td>\n",
       "      <td>44.887931</td>\n",
       "    </tr>\n",
       "    <tr>\n",
       "      <th>Polhograjsko hribovje in Ljubljana</th>\n",
       "      <td>85</td>\n",
       "      <td>59.294118</td>\n",
       "    </tr>\n",
       "  </tbody>\n",
       "</table>\n",
       "</div>"
      ],
      "text/plain": [
       "                                               gora  priljubljenost\n",
       "gorovje                                                            \n",
       "Julijske Alpe                                   544       67.426471\n",
       "Karavanke                                       348       52.155172\n",
       "Goriško, Notranjsko in Snežniško hribovje       284       54.014085\n",
       "Kamniško Savinjske Alpe                         274       67.580292\n",
       "Zasavsko - Posavsko hribovje in Dolenjska       207       52.444444\n",
       "Škofjeloško, Cerkljansko hribovje in Jelovica   141       47.482270\n",
       "Pohorje in ostala severovzhodna Slovenija       116       44.887931\n",
       "Polhograjsko hribovje in Ljubljana               85       59.294118"
      ]
     },
     "execution_count": 22,
     "metadata": {},
     "output_type": "execute_result"
    }
   ],
   "source": [
    "zdruzeno = pd.merge(stevilo_hribov, povp_prilj, left_on=\"gorovje\", right_on=\"gorovje\")\n",
    "zdruzeno"
   ]
  },
  {
   "cell_type": "code",
   "execution_count": 23,
   "metadata": {},
   "outputs": [
    {
     "data": {
      "text/plain": [
       "<AxesSubplot:xlabel='gora', ylabel='priljubljenost'>"
      ]
     },
     "execution_count": 23,
     "metadata": {},
     "output_type": "execute_result"
    },
    {
     "data": {
      "image/png": "[encoded data removed]",
      "text/plain": [
       "<Figure size 432x288 with 1 Axes>"
      ]
     },
     "metadata": {
      "needs_background": "light"
     },
     "output_type": "display_data"
    }
   ],
   "source": [
    "zdruzeno.plot.scatter(x = \"gora\", y = \"priljubljenost\")"
   ]
  },
  {
   "cell_type": "markdown",
   "metadata": {},
   "source": [
    "Če odštejemo četrtino največ odstopanj (Polhograjsko hribovje in Kamniško Savinjske Alpe), lahko skozi točke na grafu potegnemo premico, ki se precej dobro ujema. Zdi se torej, da povprečna priljubljenost gorovja torej je odvisna od števila hribov v gorovju.\n",
    "Ampak zakaj bi lahko bilo tako? Najverjetneje priljubljenost hriba merijo s številom obiskov spletne strani danega hriba. Gorovja z večjim številom hribov so verjetno bolj poznana (npr. Julijske Alpe, kjer vsak Slovenec pozna Triglav) kot pa gorovja z manjšim številom hribov (npr. Pohorje in ostala severnovzhodna Slovenija). Druga možnost bi lahko bil tudi relief. Ob pojmu \"iti v hribe\" si verjetno večina ljudi prej predstavlja Mangart, Viševnik, Krn, kot pa Ribniško kočo, Črni vrh ali Lovrenška jezera, ki so del Pohorja in ostale severovzhodne Slovenije. Vendar pa o vzroku trenutno lahko le ugibam, preveriti pa ne morem ničesar, saj nimam podatkov s katerimi bi lahko mojo domnevo potrdila/zavrgla."
   ]
  },
  {
   "cell_type": "markdown",
   "metadata": {},
   "source": [
    "## Zaključek"
   ]
  },
  {
   "cell_type": "markdown",
   "metadata": {},
   "source": [
    "Najpriljubnejših hribov (takih s priljubljenostjo 100) je 14, najpriljubnejše gorovje pa so Kamniško Savinjske Alpe. \n",
    "Hipoteza , da so višji vrhovi bolj popularni, je bila ovržena. Za vsako gorovje je bil najden njegov najbolj priljubljen hrib. Povprečna priljubljenost gorovja je odvisna od števila hribov v gorovju."
   ]
  }
 ],
 "metadata": {
  "kernelspec": {
   "display_name": "Python 3",
   "language": "python",
   "name": "python3"
  },
  "language_info": {
   "codemirror_mode": {
    "name": "ipython",
    "version": 3
   },
   "file_extension": ".py",
   "mimetype": "text/x-python",
   "name": "python",
   "nbconvert_exporter": "python",
   "pygments_lexer": "ipython3",
   "version": "3.8.6"
  }
 },
 "nbformat": 4,
 "nbformat_minor": 4
}
